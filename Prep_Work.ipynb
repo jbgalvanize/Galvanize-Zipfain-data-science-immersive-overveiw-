{
 "metadata": {
  "name": "",
  "signature": "sha256:d559313e82f12c30de4620f95b73f8e671c7b88a35f45f629477b5d7ec2ede2f"
 },
 "nbformat": 3,
 "nbformat_minor": 0,
 "worksheets": [
  {
   "cells": [
    {
     "cell_type": "markdown",
     "metadata": {},
     "source": [
      "# Prep Work\n",
      "I hadn't come from a technical background so I knew that I was going to have to work my butt off getting my skills up to par for the 12 weeks. I had read the blogs of other participants so I had a general idea of what to expect. I started off with Andrew Ng's maching learning course, moved on to some general numpy, pandas, dataframe work and continued with some stats work. Official prep work from Zipfian was on its way so I did my best set my general technical knowledge base.\n",
      "\n",
      "Once we got access to the precourse repo I was stoked to see that everything was easy laid out. Eight chapters in all plus even some extra credit. One quote kept getting harped onto us, \"I wish I did more precourse work\" - said every zipfian student ever. I knew once I signed up for this program I was going to work as hard as I could so there was no question in my mind that these chapters were getting done.\n",
      "\n",
      "Here is a general idea of the areas of study:\n",
      "1. Chapter 1 Python_Syntax\n",
      "2. Chapter 2 Linear_Algebra\n",
      "3. Chapter 3 SQL\n",
      "4. Chapter 4 Pandas\n",
      "5. Chapter 5 Probability\n",
      "6. Chapter 6 Statistics\n",
      "7. Chapter 7 Hypothesis testing\n",
      "8. Chapter 8 Web Awareness\n",
      "9. Extra_Credit\n",
      "\n",
      "Each chapter had a instructions, topic reading, and then a set of assignments that were meant to be turned in. I have a heavy excel background so the programming and panadas weren't too hard, but getting back into stats mode was a little rough. But to be honest, its like the rest of life, put in the hard focused work and you'll get your results.\n",
      "\n",
      "Each assignment would get turned in and we could collaborate with others in the corhort, get feedback and ask all the questions from the staff as we could.\n",
      "\n",
      "Even after completing most of the precourse and 2 weeks of class I'm still saying it...I wish I did more prep."
     ]
    },
    {
     "cell_type": "code",
     "collapsed": false,
     "input": [],
     "language": "python",
     "metadata": {},
     "outputs": []
    }
   ],
   "metadata": {}
  }
 ]
}