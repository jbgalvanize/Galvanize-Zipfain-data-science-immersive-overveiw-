{
 "metadata": {
  "name": "",
  "signature": "sha256:cc4f0a0db1e958d6d0ca4e5dd049b00b7c266a30a0009bdf11d5ceaefee66751"
 },
 "nbformat": 3,
 "nbformat_minor": 0,
 "worksheets": [
  {
   "cells": [
    {
     "cell_type": "markdown",
     "metadata": {},
     "source": [
      "# The Decision\n",
      "Of course making the move into Data Science was an easy choice in hindsight. But before and during that path things were not so clear. I had a background in analytics focusing on businesss application (corporate finance/modeling) but no technical side. I would always hear the buzz words \"Data Scientist\", \"big data\", \"machine learning\" and had no idea what they meant. It wasn't until I was picking up technical side projects out of pure interest and curiosity that I realized that I needed to take this a step further. After completing Ron Zacarski's [guide to data mining*](http://guidetodatamining.com/) my mind was sufficiently blown and I was hooked on the idea of stepping up my analytical/machine learning game.\n",
      "\n",
      "A friend had suggested that I apply to a technical bootcamp. I knew I didn't want to build websites or mobile apps. Backend didn't interest me much. My favorite part of my finance background was getting a massive set of transactions in excel and translating that raw data into business decision. It wasn't long before I was on ZipfianAcademy.com applying for their Spring 2015 cohort. Guess you could say it started with a quick email...\n",
      "\n",
      ">Thank you for applying to the Data Science Program at gSchool. We were very impressed by your background and application. Congratulations on making it to the next step of the application process. We look forward to learning more about you!\n",
      "\n",
      "After thinking about my story and how I came to be where I am I think back to that success cartoon"
     ]
    },
    {
     "cell_type": "code",
     "collapsed": false,
     "input": [
      "from IPython.display import Image\n",
      "Image(url='http://files.pressible.org/273/files/2011/10/297033_10150451786673054_558933053_9951163_1345685020_n.jpg')"
     ],
     "language": "python",
     "metadata": {},
     "outputs": [
      {
       "html": [
        "<img src=\"http://files.pressible.org/273/files/2011/10/297033_10150451786673054_558933053_9951163_1345685020_n.jpg\"/>"
       ],
       "metadata": {},
       "output_type": "pyout",
       "prompt_number": 7,
       "text": [
        "<IPython.core.display.Image at 0x3a01eb8>"
       ]
      }
     ],
     "prompt_number": 7
    },
    {
     "cell_type": "markdown",
     "metadata": {},
     "source": [
      "And I'm fine, in fact proud, with how its gone\n",
      "\n",
      "*Note: I'll use zipfian and gschool interchangably. Although technically zipfian was aquired by gschool. More informatin found [here.](http://www.zipfianacademy.com/blog/2014/11/18/zipfian-academy-is-joining-galvanize)*"
     ]
    },
    {
     "cell_type": "markdown",
     "metadata": {},
     "source": [
      "## The interview process and decision\n",
      "The interview process consisted of 4 stages:\n",
      "1. Resume, cover letter, \"Why should we care about you?\" types of questions\n",
      "2. Technical take home assignment\n",
      "3. GHangout coding sesh\n",
      "4. GHangout statistics sesh\n",
      "\n",
      "#### 1. Resume, cover letter, \"Why should we care about you?\" types of questions\n",
      "This is where you tell you story. What makes you interesting? Why are you applying for this school? This group isn't a bunch of idiots. Don't sugar coat your answers. They know that you are either leaving a job, don't have a job, have an ugly transition story or something else going on. Either way, 12-weeks and the cost of tutition is a big committment. Why are you taking this step in your life right now? Whats your background?\n",
      "\n",
      "Its easy to get carried away with trying to tell a story that you think someone else wants to hear. For this process however I was an honest as could be. I might have literally said, \"I was an excel monkey and loved the analytics but couldn't stand the material I was working on. I'm tired of descriptive stats and want to take my skills to the next level.\" I mainly tried to show them that I had a personality and the steps that led me up to my curiosity as a potential Data Scientist.\n",
      "\n",
      "#### 2. Techincal take home assignment\n",
      "Five or six questions total. Couple python (gschool's language of choice), couple sql, couple experiment structuring questions. Once the test is sent off to you they expect it back in 5 hours. Make sure you have good work place, solid internet connection and your choice of coding platform. I tried to comment and explain my thinking as much as possible.\n",
      "\n",
      "#### 3. GHangout coding sesh\n",
      "I jumped on a hangout with a recent grad who worked through a problem with me. The general idea of the problem was\n",
      "\n",
      "> Given a list of a ton of words, find those words that are anagrams of others.\n",
      "\n",
      "It doesn't sound too hard in an ideal environment. The only rough part was that I basically had a chat box (on purpose) to type my code in, I couldn't see the result, error messages, or even test out a quick line before moving on. My interviewer would run the code on his side and translate to me what it was saying. He got a sense of my coding ability to say the least.\n",
      "\n",
      "#### 4. GHangout statistics sesh\n",
      "I knew that we would be doing stats, but I had NO idea what area of stats I would be tested on. I studied what I could. Quickly learning stats and communicating it is a lot harder than quickly learning a new piece of code and running it.\n",
      "\n",
      "I got on the call with Tammy for an hour and we went over about 6 stats based questions. She asked me about certain formulas, bayes probability, combinatorics, and reading results from a test. I felt horrible towards the end of call and thought that I absolutely botched the entire interview process in this hour."
     ]
    },
    {
     "cell_type": "markdown",
     "metadata": {},
     "source": [
      "## The Decision\n",
      "Some how I got through that stats onslaught and while riding on the DC metro was greeted with a life changing email:\n",
      "\n",
      ">Hi Gregory, It is my great pleasure to welcome you into Data Science program at gSchool! We look forward to having you with us this spring.\n",
      "\n",
      "I knew what my heart wanted to do, obviously come back to SF, do this awesome program and learing new things but 12 weeks, tuition cost, and cross country move made me slow down. I made sure that I read every piece of information out there (I only found three blogs at the time. [Here](http://yet-another-data-blog.blogspot.com/2014/01/week-1-zipfian-academy.html) [are](http://nyghtowl.io/category/education/zipfian/) two of them. Other than those I checked youtube, quora, google, course report and anything that would come up. But honestly the absolute best resource I had were the alumni who already went through the program. I made a list of questions I cared about and made a goal to reach out to seven of them.\n",
      "\n",
      "1. Thoughts on the program as a whole?\n",
      "2. Why can't I just learning everything they teach online on my own?\n",
      "3. I know they have hiring partners, but what was the reaction of companies to the program who had no idea about Zipfian? The ones that you approached cold.\n",
      "4. How well did the program prep you for the job you are doign now?\n",
      "5. What is the number one area you wish you could have prepped more for?\n",
      "6. I know that marketing plays a huge part of the average salary number they display online. From your perspective, how true to reality is that figure vs marketing fluff?\n",
      "7. How hard was your interview process? Any tips?\n",
      "8. Would you rec blogging during your process?\n",
      "\n",
      "As each call went by I got a better idea of what the program would be. I reached out to 9 alumni and got really awesome responses from 7 of them gladly accepting a phone call. The pure energy from them to help out a prospective student said a lot to me. They gave me the honest rough answers and at the end I had I heard all I needed to. I wanted to take the jump and go for it. In early March I sent in my acceptance letter and commited to Spring 2015 Cohort 6 of Zipfian Academy/gschool."
     ]
    },
    {
     "cell_type": "code",
     "collapsed": false,
     "input": [],
     "language": "python",
     "metadata": {},
     "outputs": []
    }
   ],
   "metadata": {}
  }
 ]
}